{
 "cells": [
  {
   "cell_type": "code",
   "execution_count": 2,
   "metadata": {},
   "outputs": [],
   "source": [
    "#1.Divisibility Check of two numbers"
   ]
  },
  {
   "cell_type": "code",
   "execution_count": 3,
   "metadata": {},
   "outputs": [
    {
     "name": "stdout",
     "output_type": "stream",
     "text": [
      "Please Enter Numerator  :34\n",
      "Please Enter Denominator :4\n",
      " Number 34 is not Completely Divisible by 4\n"
     ]
    }
   ],
   "source": [
    "numerator = int(input(\"Please Enter Numerator  :\"))\n",
    "denominator = int(input(\"Please Enter Denominator :\"))\n",
    "result = numerator%denominator\n",
    "if result==0:\n",
    "    print(f\" Number {numerator} is Completely Divisible by {denominator}\" )\n",
    "else:\n",
    "    print(f\" Number {numerator} is not Completely Divisible by {denominator}\")\n"
   ]
  },
  {
   "cell_type": "code",
   "execution_count": 4,
   "metadata": {},
   "outputs": [],
   "source": [
    "#2.Copy string n times"
   ]
  },
  {
   "cell_type": "code",
   "execution_count": 5,
   "metadata": {},
   "outputs": [
    {
     "name": "stdout",
     "output_type": "stream",
     "text": [
      "Please Enter a string :a\n",
      "How many copies of String you need :4\n",
      "4 copies of a are aaaa\n"
     ]
    }
   ],
   "source": [
    "name = str(input(\"Please Enter a string :\"))\n",
    "repeat = int(input(\"How many copies of String you need :\"))\n",
    "i=name*repeat\n",
    "print(f\"{repeat} copies of {name} are {i}\")\n"
   ]
  },
  {
   "cell_type": "code",
   "execution_count": 6,
   "metadata": {},
   "outputs": [],
   "source": [
    "#3. Vowel Tester"
   ]
  },
  {
   "cell_type": "code",
   "execution_count": null,
   "metadata": {
    "scrolled": true
   },
   "outputs": [],
   "source": [
    "character = input(\"Please Enter a Character :\")\n",
    "characterlist = ['A','E','I','O','U']\n",
    "if(character.upper() in characterlist):\n",
    "    print(f\" Letter {character} is Vowel\")\n",
    "else:\n",
    "    print(f\" Letter {character} is not Vowel\") "
   ]
  },
  {
   "cell_type": "code",
   "execution_count": 10,
   "metadata": {},
   "outputs": [],
   "source": [
    "#4. Odd No.s"
   ]
  },
  {
   "cell_type": "code",
   "execution_count": 20,
   "metadata": {},
   "outputs": [
    {
     "name": "stdout",
     "output_type": "stream",
     "text": [
      "Number : 1\n",
      "Number : 3\n",
      "Number : 5\n",
      "Number : 7\n",
      "Number : 9\n",
      "Number : 11\n",
      "Number : 13\n",
      "Number : 15\n",
      "Number : 17\n",
      "Number : 19\n"
     ]
    }
   ],
   "source": [
    "for number in range(1,20,2):\n",
    "    print(\"Number :\", number)\n"
   ]
  },
  {
   "cell_type": "code",
   "execution_count": 21,
   "metadata": {},
   "outputs": [],
   "source": [
    "#5. Food Slicing"
   ]
  },
  {
   "cell_type": "code",
   "execution_count": 31,
   "metadata": {},
   "outputs": [
    {
     "name": "stdout",
     "output_type": "stream",
     "text": [
      "The first three items in the list are: ['Biryani', 'Pilao', 'Pizza']\n",
      "Three items from the middle of the list are: ['Handi', 'Nihari', 'Haleem']\n",
      "The last three items in the list are: ['Qeema', 'Fish', 'Burger']\n"
     ]
    }
   ],
   "source": [
    "dishes = ['Biryani','Pilao','Pizza','Handi','Nihari','Haleem','Qeema','Fish','Burger']\n",
    "\n",
    "print(f\"The first three items in the list are: {dishes[0:3]}\")\n",
    "print(f\"Three items from the middle of the list are: {dishes[3:6]}\")\n",
    "print(f\"The last three items in the list are: {dishes[6:9]}\")"
   ]
  },
  {
   "cell_type": "code",
   "execution_count": null,
   "metadata": {},
   "outputs": [],
   "source": []
  },
  {
   "cell_type": "code",
   "execution_count": null,
   "metadata": {},
   "outputs": [],
   "source": []
  }
 ],
 "metadata": {
  "kernelspec": {
   "display_name": "Python 3",
   "language": "python",
   "name": "python3"
  }
 },
 "nbformat": 4,
 "nbformat_minor": 2
}
