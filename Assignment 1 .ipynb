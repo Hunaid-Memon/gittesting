{
 "cells": [
  {
   "cell_type": "code",
   "execution_count": 1,
   "metadata": {},
   "outputs": [
    {
     "name": "stdout",
     "output_type": "stream",
     "text": [
      "NAME : Hunaid M Hanif\n",
      "Date Of Birth : 17/Oct/1991\n",
      "Qualification : B.com\n",
      "Email : hunaid.hanif@gmail.com\n",
      "Mobile no : 923222497072\n",
      "City : Karachi\n",
      "Address : Nazimabad No. 3\n"
     ]
    }
   ],
   "source": [
    "first_name = \"Hunaid\"\n",
    "last_name = \"M Hanif\"\n",
    "dob = \"17/Oct/1991\"\n",
    "edu = 'B.com'\n",
    "email = \"hunaid.hanif@gmail.com\"\n",
    "cell_no = 923222497072\n",
    "address = 'Nazimabad No. 3'\n",
    "city = \"Karachi\"\n",
    "\n",
    "\n",
    "print(\"NAME :\" ,first_name,last_name)\n",
    "print(\"Date Of Birth :\" ,dob)\n",
    "print(\"Qualification :\", edu)\n",
    "print(\"Email :\" ,email)\n",
    "print(\"Mobile no :\" ,cell_no)\n",
    "print(\"City :\" ,city)\n",
    "print(\"Address :\" ,address)"
   ]
  },
  {
   "cell_type": "code",
   "execution_count": null,
   "metadata": {},
   "outputs": [],
   "source": []
  }
 ],
 "metadata": {
  "kernelspec": {
   "display_name": "Python 3",
   "language": "python",
   "name": "python3"
  },
  "language_info": {
   "codemirror_mode": {
    "name": "ipython",
    "version": 3
   },
   "file_extension": ".py",
   "mimetype": "text/x-python",
   "name": "python",
   "nbconvert_exporter": "python",
   "pygments_lexer": "ipython3",
   "version": "3.7.4"
  }
 },
 "nbformat": 4,
 "nbformat_minor": 2
}
